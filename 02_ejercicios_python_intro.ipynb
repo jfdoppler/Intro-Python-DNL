{
 "cells": [
  {
   "cell_type": "markdown",
   "metadata": {},
   "source": [
    "## Loops 1\n",
    "\n",
    "Calcule la suma de todos los número naturales entre el 50 y el 100"
   ]
  },
  {
   "cell_type": "code",
   "execution_count": null,
   "metadata": {
    "collapsed": true
   },
   "outputs": [],
   "source": []
  },
  {
   "cell_type": "markdown",
   "metadata": {},
   "source": [
    "## Loops 2\n",
    "Calcule el 9º término de la serie de Fibonacci. \n",
    "Tip1: la serie de Fibonacci se define por recurrencia de la siguiente manera\n",
    "$$\n",
    "a_1 = 1\n",
    "$$\n",
    "$$\n",
    "a_2 = 1\n",
    "$$\n",
    "$$\n",
    "a_{n} = a_{n-1} + a_{n-2}\n",
    "$$"
   ]
  },
  {
   "cell_type": "code",
   "execution_count": null,
   "metadata": {
    "collapsed": true
   },
   "outputs": [],
   "source": []
  },
  {
   "cell_type": "markdown",
   "metadata": {},
   "source": [
    "## Loops 3 (difícil)\n",
    "\n",
    "Escriba una rutina que imprima los primeros 100 números de [FizzBuzz](https://en.wikipedia.org/wiki/Fizz_buzz)"
   ]
  },
  {
   "cell_type": "code",
   "execution_count": null,
   "metadata": {
    "collapsed": true
   },
   "outputs": [],
   "source": []
  }
 ],
 "metadata": {
  "anaconda-cloud": {},
  "kernelspec": {
   "display_name": "Python [conda env:anaconda3]",
   "language": "python",
   "name": "conda-env-anaconda3-py"
  },
  "language_info": {
   "codemirror_mode": {
    "name": "ipython",
    "version": 3
   },
   "file_extension": ".py",
   "mimetype": "text/x-python",
   "name": "python",
   "nbconvert_exporter": "python",
   "pygments_lexer": "ipython3",
   "version": "3.5.3"
  }
 },
 "nbformat": 4,
 "nbformat_minor": 2
}
