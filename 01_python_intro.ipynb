{
 "cells": [
  {
   "cell_type": "markdown",
   "metadata": {},
   "source": [
    "## Intro a python/programación\n",
    "\n",
    "Python es un lenguaje de programación libre y gratuito. Como es libre y gratuito mucha gente, empresas, organizaciones, hacen paquetes (conjuntos de rutinas) de python.\n",
    "\n",
    "### Para bajar\n",
    "\n",
    "La forma más fácil de tener Python es bajar [Anaconda](https://www.anaconda.com/distribution/), que viene con varios paquetes ya instalados.\n",
    "\n",
    "## IDEs\n",
    "\n",
    "Una [IDE](https://en.wikipedia.org/wiki/Integrated_development_environment) es un entorno de desarrollo integrado. Anaconda viene con Jupyter Notebook (web, .ipynb) y Spyder (para los que usaron Matlab, la más familiar).\n",
    "\n",
    "### Jupyter Notebook\n",
    "\n",
    "Se divide en celdas (que tienen un \"In [ ]\" al costado) donde se escribe el código. Con Ctrl + Enter o el botoncito que parece un play arriba, se ejecuta el código de la celda.\n",
    "\n",
    "Con el \"+\" de arriba o Esc+b, se agrega una celda.\n",
    "\n",
    "### Google y Stackoverflow son sus amigos\n",
    "\n",
    "La comunidad de programadores (y de Python) es enorme. Por eso, la primera fuente de información es internet. La regla básica es que cualquier problema con el que se encuentren, ya se le habrá presentado a un montón de gente, y por lo general googlear lo que se quiere hacer o el mensaje de error cuando algo falla, es una herramienta fundamental.\n",
    "\n",
    "### Hola mundo!\n"
   ]
  },
  {
   "cell_type": "code",
   "execution_count": 25,
   "metadata": {},
   "outputs": [
    {
     "name": "stdout",
     "output_type": "stream",
     "text": [
      "Hola mundo!\n"
     ]
    }
   ],
   "source": [
    "print('Hola mundo!')"
   ]
  },
  {
   "cell_type": "markdown",
   "metadata": {},
   "source": [
    "### Aritmética básica\n",
    "Se pueden hacer las operaciones básicas."
   ]
  },
  {
   "cell_type": "code",
   "execution_count": 5,
   "metadata": {},
   "outputs": [
    {
     "data": {
      "text/plain": [
       "2"
      ]
     },
     "execution_count": 5,
     "metadata": {},
     "output_type": "execute_result"
    }
   ],
   "source": [
    "1+1"
   ]
  },
  {
   "cell_type": "code",
   "execution_count": 6,
   "metadata": {},
   "outputs": [
    {
     "data": {
      "text/plain": [
       "40"
      ]
     },
     "execution_count": 6,
     "metadata": {},
     "output_type": "execute_result"
    }
   ],
   "source": [
    "8*5"
   ]
  },
  {
   "cell_type": "markdown",
   "metadata": {},
   "source": [
    "Para controlar que se imprime, se puede usar la función print.\n",
    "\n",
    "#### Qué hacen los operadores //, % y **?"
   ]
  },
  {
   "cell_type": "code",
   "execution_count": 8,
   "metadata": {},
   "outputs": [
    {
     "name": "stdout",
     "output_type": "stream",
     "text": [
      "3.5\n",
      "3\n",
      "1\n",
      "25\n",
      "5.0\n"
     ]
    }
   ],
   "source": [
    "print(7/2)\n",
    "print(7//2)\n",
    "print(7%2)\n",
    "print(5**2)\n",
    "print(25**0.5)"
   ]
  },
  {
   "cell_type": "markdown",
   "metadata": {},
   "source": [
    "Podemos guardar resultados en variables. No hace falta (como en C) que le digamos qué tipo de variable es (un entero, un float, string...), y podemos cambiar de tipo."
   ]
  },
  {
   "cell_type": "code",
   "execution_count": 24,
   "metadata": {},
   "outputs": [
    {
     "name": "stdout",
     "output_type": "stream",
     "text": [
      "6\n"
     ]
    },
    {
     "data": {
      "text/plain": [
       "'2'"
      ]
     },
     "execution_count": 24,
     "metadata": {},
     "output_type": "execute_result"
    }
   ],
   "source": [
    "a = 3\n",
    "b = 2\n",
    "lala = a*b\n",
    "print(lala)\n",
    "a = str(b)\n",
    "a"
   ]
  },
  {
   "cell_type": "markdown",
   "metadata": {},
   "source": [
    "Atención! A la derecha del igual se hacen todas las cuentas y el resultado se guarda en el símbolo de la izquierda"
   ]
  },
  {
   "cell_type": "code",
   "execution_count": 12,
   "metadata": {},
   "outputs": [
    {
     "name": "stdout",
     "output_type": "stream",
     "text": [
      "10\n"
     ]
    }
   ],
   "source": [
    "c = 2\n",
    "d = 5\n",
    "c = c*d\n",
    "print(c)"
   ]
  },
  {
   "cell_type": "markdown",
   "metadata": {},
   "source": [
    "## Listas, tuplas y diccionarios\n",
    "\n",
    "Hasta ahora vimos tres tipos de datos, los números enteros (int, de integer en inglés), los racionales (float, de números de punto flotante) y los strings (str, texto)\n",
    "\n",
    "Las listas se definen usando corchetes, con sus elementos (que pueden ser cualquier cosa, incluso otras listas) separados por comas.\n",
    "\n",
    "Las listas tienen orden, y se puede acceder a sus elementos por el índice (la numeración empieza por 0)"
   ]
  },
  {
   "cell_type": "code",
   "execution_count": 33,
   "metadata": {},
   "outputs": [
    {
     "name": "stdout",
     "output_type": "stream",
     "text": [
      "[1, 4, 0]\n",
      "hola\n",
      "[1, -5, 0]\n"
     ]
    }
   ],
   "source": [
    "lista1 = [1, 4, 0]\n",
    "lista2 = [4, 'hola', [4,5], lista1, lista1[2], 10]\n",
    "print(lista1)\n",
    "print(lista2[1])\n",
    "lista1[1] = -5\n",
    "print(lista1)\n"
   ]
  },
  {
   "cell_type": "markdown",
   "metadata": {},
   "source": [
    "También podemos acceder \"desde el final\", usando indices negativos."
   ]
  },
  {
   "cell_type": "code",
   "execution_count": 35,
   "metadata": {},
   "outputs": [
    {
     "name": "stdout",
     "output_type": "stream",
     "text": [
      "0\n",
      "[1, -5, 0]\n"
     ]
    }
   ],
   "source": [
    "print(lista1[-1])\n",
    "print(lista2[-3])"
   ]
  },
  {
   "cell_type": "markdown",
   "metadata": {},
   "source": [
    "Y quedarnos con un pedazo (desde:hasta, incluyendo el desde, excluyendo el hasta)"
   ]
  },
  {
   "cell_type": "code",
   "execution_count": 36,
   "metadata": {},
   "outputs": [
    {
     "data": {
      "text/plain": [
       "['hola', [4, 5]]"
      ]
     },
     "execution_count": 36,
     "metadata": {},
     "output_type": "execute_result"
    }
   ],
   "source": [
    "lista2[1:3]"
   ]
  },
  {
   "cell_type": "markdown",
   "metadata": {},
   "source": [
    "Las tuplas son parecidas a las listas, salvo que son inmutables (no se pueden cambiar sus valores). En vez de corchetes, van con paréntesis. Ojo, para crear una tupla de 1 elemento, hay que poner una coma después"
   ]
  },
  {
   "cell_type": "code",
   "execution_count": 42,
   "metadata": {},
   "outputs": [
    {
     "name": "stdout",
     "output_type": "stream",
     "text": [
      "(1, 2, 'a')\n",
      "2\n",
      "a\n",
      "<class 'tuple'>\n",
      "<class 'int'>\n"
     ]
    }
   ],
   "source": [
    "tupla = (1, 2, 'a')\n",
    "print(tupla)\n",
    "print(tupla[1])\n",
    "print(tupla[-1])\n",
    "tupla2 = (2, )\n",
    "print(type(tupla2))\n",
    "not_tupla = (2)\n",
    "print(type(not_tupla))"
   ]
  },
  {
   "cell_type": "code",
   "execution_count": 40,
   "metadata": {},
   "outputs": [
    {
     "ename": "TypeError",
     "evalue": "'tuple' object does not support item assignment",
     "output_type": "error",
     "traceback": [
      "\u001b[0;31m---------------------------------------------------------------------------\u001b[0m",
      "\u001b[0;31mTypeError\u001b[0m                                 Traceback (most recent call last)",
      "\u001b[0;32m<ipython-input-40-770160c2af07>\u001b[0m in \u001b[0;36m<module>\u001b[0;34m()\u001b[0m\n\u001b[0;32m----> 1\u001b[0;31m \u001b[0mtupla\u001b[0m\u001b[0;34m[\u001b[0m\u001b[0;36m1\u001b[0m\u001b[0;34m]\u001b[0m \u001b[0;34m=\u001b[0m \u001b[0;36m2\u001b[0m\u001b[0;34m\u001b[0m\u001b[0m\n\u001b[0m",
      "\u001b[0;31mTypeError\u001b[0m: 'tuple' object does not support item assignment"
     ]
    }
   ],
   "source": [
    "tupla[1] = 2"
   ]
  },
  {
   "cell_type": "markdown",
   "metadata": {},
   "source": [
    "Los diccionarios son como las listas pero cada entrada viene de a dos: key y value (como palabra y definición en el diccionario). Se definen con llaves"
   ]
  },
  {
   "cell_type": "code",
   "execution_count": 44,
   "metadata": {},
   "outputs": [
    {
     "name": "stdout",
     "output_type": "stream",
     "text": [
      "[2, 4]\n"
     ]
    }
   ],
   "source": [
    "dic = {'a': 1, 'b': [2, 4]}"
   ]
  },
  {
   "cell_type": "markdown",
   "metadata": {},
   "source": [
    "Se accede a los valores usando las keys, y se le pueden agregar entradas."
   ]
  },
  {
   "cell_type": "code",
   "execution_count": 45,
   "metadata": {},
   "outputs": [
    {
     "name": "stdout",
     "output_type": "stream",
     "text": [
      "[2, 4]\n",
      "{'b': [2, 4], 'c': 'hola', 'a': 1}\n"
     ]
    }
   ],
   "source": [
    "print(dic['b'])\n",
    "dic['c'] = 'hola'\n",
    "print(dic)"
   ]
  },
  {
   "cell_type": "markdown",
   "metadata": {},
   "source": [
    "## Loops\n",
    "\n",
    "Un loop es una manera de escribir mucho código en muy poco espacio, cuando queremos que una operación se repita muchas veces"
   ]
  },
  {
   "cell_type": "code",
   "execution_count": 47,
   "metadata": {},
   "outputs": [
    {
     "name": "stdout",
     "output_type": "stream",
     "text": [
      "1\n",
      "-5\n",
      "0\n"
     ]
    }
   ],
   "source": [
    "for i in lista1:\n",
    "    print(i)"
   ]
  },
  {
   "cell_type": "markdown",
   "metadata": {},
   "source": [
    "# If, elif, else\n",
    "Con esto podemos definir pedazos de código que solo se ejecutan si se cumple una condición"
   ]
  },
  {
   "cell_type": "code",
   "execution_count": 48,
   "metadata": {},
   "outputs": [
    {
     "name": "stdout",
     "output_type": "stream",
     "text": [
      "x = 0\n"
     ]
    }
   ],
   "source": [
    "x = 0\n",
    "if x < 0:\n",
    "    print('x < 0')\n",
    "elif x > 0:\n",
    "    print('x > 0')\n",
    "else:\n",
    "    print('x = 0')   "
   ]
  },
  {
   "cell_type": "markdown",
   "metadata": {},
   "source": [
    "## While\n",
    "Nos permite definir código que se ejecuta (una y otra vez...) mientras una condición se cumpla"
   ]
  },
  {
   "cell_type": "code",
   "execution_count": 49,
   "metadata": {},
   "outputs": [
    {
     "name": "stdout",
     "output_type": "stream",
     "text": [
      "5\n"
     ]
    }
   ],
   "source": [
    "n = 0\n",
    "while n < 5:\n",
    "    n += 1\n",
    "print(n)"
   ]
  },
  {
   "cell_type": "markdown",
   "metadata": {},
   "source": [
    "# Funciones, args, kwargs\n",
    "Cuando queremos ejecutar un código muchas veces, suele convenir definir funciones. Las funciones toman un valor de entrada, hacen alguna operación y nos devuelven otro valor."
   ]
  },
  {
   "cell_type": "code",
   "execution_count": 52,
   "metadata": {
    "collapsed": true
   },
   "outputs": [],
   "source": [
    "def flip(string):\n",
    "    return string[::-1]"
   ]
  },
  {
   "cell_type": "code",
   "execution_count": 53,
   "metadata": {},
   "outputs": [
    {
     "data": {
      "text/plain": [
       "'aloh'"
      ]
     },
     "execution_count": 53,
     "metadata": {},
     "output_type": "execute_result"
    }
   ],
   "source": [
    "flip('hola')"
   ]
  },
  {
   "cell_type": "code",
   "execution_count": 58,
   "metadata": {},
   "outputs": [
    {
     "name": "stdout",
     "output_type": "stream",
     "text": [
      "6\n",
      "9\n",
      "-1\n"
     ]
    }
   ],
   "source": [
    "def lineal(x, ordenada=1, pendiente=1):\n",
    "    return pendiente*x+ordenada\n",
    "\n",
    "print(lineal(5))\n",
    "print(lineal(5, ordenada=4))\n",
    "print(lineal(5, ordenada=4, pendiente=-1))"
   ]
  },
  {
   "cell_type": "markdown",
   "metadata": {},
   "source": [
    "## Paquetes\n",
    "Una de las fortalezas de Python es que hay mucha gente muy comprometida en hacer código compartible. El código se comparte en forma de paquetes (o librerías). Algunos famosos son numpy (numérico), scipy (científico?), matplotlib (gráficos), pandas (manejo de datos)\n",
    "\n",
    "Para poder usar los paquetes hay que importarlos. Hay distintas formas de importar:"
   ]
  },
  {
   "cell_type": "code",
   "execution_count": 54,
   "metadata": {
    "collapsed": true
   },
   "outputs": [],
   "source": [
    "%matplotlib inline\n",
    "import numpy as np\n",
    "import matplotlib.pyplot as plt\n",
    "from scipy import signal\n",
    "from scipy.integrate import *"
   ]
  },
  {
   "cell_type": "code",
   "execution_count": 56,
   "metadata": {},
   "outputs": [
    {
     "name": "stdout",
     "output_type": "stream",
     "text": [
      "4.95\n",
      "29.5329664104\n"
     ]
    },
    {
     "data": {
      "image/png": "[encoded data removed]",
      "text/plain": [
       "<matplotlib.figure.Figure at 0x7f4f64c88dd8>"
      ]
     },
     "metadata": {},
     "output_type": "display_data"
    }
   ],
   "source": [
    "x = np.arange(0, 10, 0.1)\n",
    "y = x**2\n",
    "s = signal.triang(len(x))*100\n",
    "print(x.mean())\n",
    "print(y.std())\n",
    "plt.plot(x, y)\n",
    "plt.plot(x, s)\n",
    "plt.show()"
   ]
  }
 ],
 "metadata": {
  "anaconda-cloud": {},
  "kernelspec": {
   "display_name": "Python [conda env:anaconda3]",
   "language": "python",
   "name": "conda-env-anaconda3-py"
  },
  "language_info": {
   "codemirror_mode": {
    "name": "ipython",
    "version": 3
   },
   "file_extension": ".py",
   "mimetype": "text/x-python",
   "name": "python",
   "nbconvert_exporter": "python",
   "pygments_lexer": "ipython3",
   "version": "3.5.3"
  }
 },
 "nbformat": 4,
 "nbformat_minor": 2
}
